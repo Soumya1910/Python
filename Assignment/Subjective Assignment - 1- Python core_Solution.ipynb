{
 "cells": [
  {
   "cell_type": "markdown",
   "metadata": {},
   "source": [
    "Q1. Write a Python program to get the string from the given string where\n",
    "all the occurrence of its first char has been changed to '$,' except first\n",
    "char itself?\n",
    "\n",
    "    Sample String: 'prospect'\n",
    "    Expected Result : 'pros$ect'\n"
   ]
  },
  {
   "cell_type": "code",
   "execution_count": 1,
   "metadata": {},
   "outputs": [
    {
     "name": "stdout",
     "output_type": "stream",
     "text": [
      "pros$ect\n"
     ]
    }
   ],
   "source": [
    "from collections import Counter\n",
    "string = \"prospect\"\n",
    "string_list = list(string)\n",
    "def index_list(my_list, desired_element):\n",
    "    indexes = [index for index, element in enumerate(my_list) if element == desired_element][1:]\n",
    "    return indexes\n",
    "\n",
    "count = Counter(string)\n",
    "repeated_char = [k for k in count.keys() if count[k] >1]\n",
    "for i in repeated_char:\n",
    "    char_position_list = index_list(string_list, i)\n",
    "    for j in char_position_list:\n",
    "        string_list[j] = '$'\n",
    "return_string = ''.join(string_list)\n",
    "print(return_string)"
   ]
  },
  {
   "cell_type": "markdown",
   "metadata": {},
   "source": [
    "Q2. Write a Python program to get the single string from the two given\n",
    "strings, and separated by the space and swap the first two characters of\n",
    "each string?\n",
    "\n",
    "    Sample String : 'abc', 'xyz'.\n",
    "    Expected Result: 'xyc abz'"
   ]
  },
  {
   "cell_type": "code",
   "execution_count": 2,
   "metadata": {},
   "outputs": [
    {
     "name": "stdout",
     "output_type": "stream",
     "text": [
      "Enter the string : abc xyz\n",
      "abc xyz\n"
     ]
    }
   ],
   "source": [
    "string_list = input('Enter the string : ').split(',')[::-1]\n",
    "print(\" \".join(string_list))"
   ]
  },
  {
   "cell_type": "code",
   "execution_count": 3,
   "metadata": {},
   "outputs": [
    {
     "name": "stdout",
     "output_type": "stream",
     "text": [
      "Enter the first string : abc\n",
      "Enter the second string : xyz\n",
      "xyz abc\n"
     ]
    }
   ],
   "source": [
    "first = input('Enter the first string : ')\n",
    "last = input('Enter the second string : ')\n",
    "print(last+\" \"+first)"
   ]
  },
  {
   "cell_type": "markdown",
   "metadata": {},
   "source": [
    "Q3. Write the Python program to add 'ing' at the end of the given string\n",
    "(length of the string should be at least 3). If given string already ends\n",
    "with 'ing,' then add 'ly' instead. If string length of the given string is less\n",
    "than 3, leave it unchanged?\n",
    "\n",
    "\n",
    "    Sample string: ' abc '\n",
    "    Expected result: ' abcing '\n",
    "    Sample string: ' string '\n",
    "    Expected result: ' stringly '\n"
   ]
  },
  {
   "cell_type": "code",
   "execution_count": 4,
   "metadata": {},
   "outputs": [
    {
     "name": "stdout",
     "output_type": "stream",
     "text": [
      "Enter a string : string\n",
      "stringly\n"
     ]
    }
   ],
   "source": [
    "def string_manipulation(string):\n",
    "    if string[-3:] == 'ing':\n",
    "        return string+'ly'\n",
    "    else:\n",
    "        return string+'ing'\n",
    "    \n",
    "string = input('Enter a string : ')\n",
    "if len(string)<3:\n",
    "    print(string)\n",
    "else:\n",
    "    print(string_manipulation(string))"
   ]
  },
  {
   "cell_type": "markdown",
   "metadata": {},
   "source": [
    "Q4. Write the Python program to find the first appearance of the\n",
    "substring 'not' and 'poor' from the given string, if 'not' follows the 'poor',\n",
    "replace the whole 'not'...' poor' substring with 'good'.Return the resulting\n",
    "string.\n",
    "\n",
    "    Sample string: 'The lyrics are not that poor!'\n",
    "    'The lyrics are poor!'\n",
    "    Expected Result: 'The lyrics are good!'\n",
    "    'The lyrics are poor!'"
   ]
  },
  {
   "cell_type": "code",
   "execution_count": 5,
   "metadata": {},
   "outputs": [
    {
     "name": "stdout",
     "output_type": "stream",
     "text": [
      "The lyrics are good!\n",
      "The lyrics are poor!\n"
     ]
    }
   ],
   "source": [
    "def string_manipulation(string):\n",
    "    index_not = string.find('not')\n",
    "    index_poor = string.find('poor')\n",
    "    \n",
    "    if index_not < index_poor and index_not > 0 and index_poor >0:\n",
    "        return string.replace(string[index_not:index_poor+4],'good')\n",
    "    else:\n",
    "        return string\n",
    "\n",
    "print(string_manipulation(\"The lyrics are not that poor!\"))\n",
    "print(string_manipulation(\"The lyrics are poor!\"))"
   ]
  },
  {
   "cell_type": "markdown",
   "metadata": {},
   "source": [
    "Q5. Write the Python program to remove the characters which have odd\n",
    "index values of a given string."
   ]
  },
  {
   "cell_type": "code",
   "execution_count": 6,
   "metadata": {},
   "outputs": [
    {
     "data": {
      "text/plain": [
       "'WietePto rga ormv h hrceswihhv d ne auso  ie tig'"
      ]
     },
     "execution_count": 6,
     "metadata": {},
     "output_type": "execute_result"
    }
   ],
   "source": [
    "string = \"Write the Python program to remove the characters which have odd index values of a given string\"\n",
    "string[:len(string):2]"
   ]
  },
  {
   "cell_type": "markdown",
   "metadata": {},
   "source": [
    "Q6. Write the python program to print the following floating numbers up\n",
    "to 2 decimal places?"
   ]
  },
  {
   "cell_type": "code",
   "execution_count": 7,
   "metadata": {},
   "outputs": [
    {
     "name": "stdout",
     "output_type": "stream",
     "text": [
      "Original Number 3.56784435\n",
      "Formatted Number 3.57\n"
     ]
    }
   ],
   "source": [
    "original_num = 3.56784435\n",
    "formatted_num = round(original_num,2)\n",
    "print('Original Number {}\\nFormatted Number {}'.format(original_num, formatted_num))"
   ]
  },
  {
   "cell_type": "markdown",
   "metadata": {},
   "source": [
    "Q7. Write the Python program to format a number with a percentage?"
   ]
  },
  {
   "cell_type": "code",
   "execution_count": 8,
   "metadata": {},
   "outputs": [
    {
     "name": "stdout",
     "output_type": "stream",
     "text": [
      "\n",
      "Original Number:  0.25\n",
      "Formatted Number with percentage: 25.00%\n",
      "Original Number:  -0.25\n",
      "Formatted Number with percentage: -25.00%\n"
     ]
    }
   ],
   "source": [
    "x = 0.25\n",
    "y = -0.25\n",
    "print(\"\\nOriginal Number: \", x)\n",
    "print(\"Formatted Number with percentage: \"+\"{:.2%}\".format(x));\n",
    "print(\"Original Number: \", y)\n",
    "print(\"Formatted Number with percentage: \"+\"{:.2%}\".format(y));"
   ]
  },
  {
   "cell_type": "markdown",
   "metadata": {},
   "source": [
    "Q8. Write the Python program to count occurrences of a substring in a\n",
    "String?"
   ]
  },
  {
   "cell_type": "code",
   "execution_count": 9,
   "metadata": {},
   "outputs": [
    {
     "name": "stdout",
     "output_type": "stream",
     "text": [
      "3\n"
     ]
    }
   ],
   "source": [
    "string = \"So I ask you tonight to return home, to say a prayer for the family of Martin Luther King ... but more importantly to say a prayer for our own country, which all of us love - a prayer for understanding and that compassion of which I spoke. - Robert F. Kennedy\"\n",
    "sub_string = \"prayer\"\n",
    "print(string.count(sub_string))"
   ]
  },
  {
   "cell_type": "markdown",
   "metadata": {},
   "source": [
    "Q9. Write the Python program to count repeated characters in a string.\n",
    "\n",
    "    Sample string: ' thequickbrownjumpsoverthelazydog '\n",
    "    \n",
    "    Expected output:\n",
    "    o 3\n",
    "    e 3\n",
    "    u 2\n",
    "    h 2\n",
    "    r 2\n",
    "    t 2"
   ]
  },
  {
   "cell_type": "code",
   "execution_count": 10,
   "metadata": {},
   "outputs": [
    {
     "name": "stdout",
     "output_type": "stream",
     "text": [
      "t   2\n",
      "h   2\n",
      "e   3\n",
      "u   2\n",
      "r   2\n",
      "o   3\n"
     ]
    }
   ],
   "source": [
    "import collections\n",
    "string = 'thequickbrownjumpsoverthelazydog'\n",
    "a = dict(collections.Counter(list(string)))\n",
    "for i in a.items():\n",
    "    if i[1]!= 1:\n",
    "        print(i[0],\" \",i[1])"
   ]
  },
  {
   "cell_type": "markdown",
   "metadata": {},
   "source": [
    "Q10. Write the Python program to print the square and cube symbol in\n",
    "the area of a rectangle and volume of a cylinder?\n",
    "\n",
    "    Sample outputThe area of the rectangle is 1256.66cm2\n",
    "    The volume of the cylinder is 1254.725cm3\n"
   ]
  },
  {
   "cell_type": "code",
   "execution_count": 11,
   "metadata": {},
   "outputs": [
    {
     "name": "stdout",
     "output_type": "stream",
     "text": [
      "The area of the rectangle is 1256.66cm²\n",
      "The volume of the cylinder is 1254.725cm³\n"
     ]
    }
   ],
   "source": [
    "area = 1256.66\n",
    "volume = 1254.725\n",
    "decimals = 2\n",
    "print(\"The area of the rectangle is {0:.{1}f}cm\\u00b2\".format(area, decimals))\n",
    "decimals = 3\n",
    "print(\"The volume of the cylinder is {0:.{1}f}cm\\u00b3\".format(volume, decimals))"
   ]
  },
  {
   "cell_type": "markdown",
   "metadata": {},
   "source": [
    "Q11. Write the Python program to check if a string contains all letters of\n",
    "the alphabet?"
   ]
  },
  {
   "cell_type": "code",
   "execution_count": 12,
   "metadata": {},
   "outputs": [
    {
     "name": "stdout",
     "output_type": "stream",
     "text": [
      "The quick brown fox jumps over a lazy dog\n"
     ]
    },
    {
     "data": {
      "text/plain": [
       "True"
      ]
     },
     "execution_count": 12,
     "metadata": {},
     "output_type": "execute_result"
    }
   ],
   "source": [
    "len(set(input().lower().replace(' ','')))==26"
   ]
  },
  {
   "cell_type": "markdown",
   "metadata": {},
   "source": [
    "Q12. Write the Python program to find the second most repeated word\n",
    "in a given string?"
   ]
  },
  {
   "cell_type": "code",
   "execution_count": 13,
   "metadata": {},
   "outputs": [
    {
     "name": "stdout",
     "output_type": "stream",
     "text": [
      "How are you? We are good here. We all are planning a movie tonight.\n",
      "We\n"
     ]
    }
   ],
   "source": [
    "import collections\n",
    "string = input().split(' ')\n",
    "freq = collections.Counter(string)\n",
    "a = dict(collections.OrderedDict(sorted(freq.items(), key=lambda x: x[1], reverse=True)))\n",
    "print(list(a.keys())[1])"
   ]
  },
  {
   "cell_type": "markdown",
   "metadata": {},
   "source": [
    "Q13. Write the Python program to find the minimum window in the given\n",
    "string, which will contains all the characters of another given\n",
    "strings?\n",
    "\n",
    "    Example 1\n",
    "    Input : string1 = \" PRWSOERIUSFK \"\n",
    "    string2 = \" OSU \"\n",
    "    Output: Minimum window is \"OERIUS\""
   ]
  },
  {
   "cell_type": "code",
   "execution_count": 14,
   "metadata": {},
   "outputs": [
    {
     "name": "stdout",
     "output_type": "stream",
     "text": [
      "Smallest window is : \n",
      "SOERIU\n"
     ]
    }
   ],
   "source": [
    "no_of_chars = 256\n",
    "def findSubString(string, pat):  \n",
    "    len1 = len(string)  \n",
    "    len2 = len(pat)  \n",
    "    if len1 < len2:  \n",
    "        print(\"No such window exists\")  \n",
    "        return \"\"  \n",
    "    hash_pat = [0] * no_of_chars \n",
    "    hash_str = [0] * no_of_chars  \n",
    "    for i in range(0, len2):  \n",
    "        hash_pat[ord(pat[i])] += 1\n",
    "    start, start_index, min_len = 0, -1, float('inf')  \n",
    "    count = 0 # count of characters  \n",
    "    for j in range(0, len1):  \n",
    "        hash_str[ord(string[j])] += 1\n",
    "        if (hash_pat[ord(string[j])] != 0 and\n",
    "            hash_str[ord(string[j])] <= \n",
    "            hash_pat[ord(string[j])]):  \n",
    "            count += 1\n",
    "        if count == len2:  \n",
    "            while (hash_str[ord(string[start])] >  \n",
    "                   hash_pat[ord(string[start])] or\n",
    "                   hash_pat[ord(string[start])] == 0):  \n",
    "                if (hash_str[ord(string[start])] >  \n",
    "                    hash_pat[ord(string[start])]):  \n",
    "                    hash_str[ord(string[start])] -= 1\n",
    "                start += 1\n",
    "            len_window = j - start + 1\n",
    "            if min_len > len_window:  \n",
    "                min_len = len_window  \n",
    "                start_index = start  \n",
    "    if start_index == -1: \n",
    "        print(\"No such window exists\")  \n",
    "        return \"\"  \n",
    "    return string[start_index : start_index + min_len]  \n",
    "  \n",
    "# Driver code  \n",
    "if __name__ == \"__main__\": \n",
    "  \n",
    "    string = \"PRWSOERIUSFK\"\n",
    "    pat = \"OSU\"\n",
    "  \n",
    "    print(\"Smallest window is : \") \n",
    "    print(findSubString(string, pat))"
   ]
  },
  {
   "cell_type": "markdown",
   "metadata": {},
   "source": [
    "Q14. Write the Python program to count number of substrings from a\n",
    "given string of lowercase alphabets with exactly k distinct (given)\n",
    "characters?\n",
    "\n",
    "    Input a string (lowercase alphabets): wolf\n",
    "    Input k: 4\n",
    "    Number of substrings with exactly 4 distinct characters: 1"
   ]
  },
  {
   "cell_type": "code",
   "execution_count": 15,
   "metadata": {},
   "outputs": [
    {
     "name": "stdout",
     "output_type": "stream",
     "text": [
      "Input String :  wolf\n",
      "Number of substrings with exactly 4 distinct characters: 1\n"
     ]
    }
   ],
   "source": [
    "string = \"wolf\".lower()\n",
    "k = 4\n",
    "def count_substring(string, distict_char):\n",
    "    count = 0\n",
    "    n = len(string)\n",
    "    for i in range(n+1):\n",
    "        for j in range(i,n+1):\n",
    "            if len(string[i:j]) == distict_char:\n",
    "                count = count+1\n",
    "    return count\n",
    "print('Input String : ',string)\n",
    "print('Number of substrings with exactly {} distinct characters: {}'.format(k, count_substring(string,k)))\n"
   ]
  },
  {
   "cell_type": "markdown",
   "metadata": {},
   "source": [
    "Q15. Write the Python program to count number of substrings with same\n",
    "first and last characters of the given string?\n",
    "\n",
    "    Input a string: abcd\n",
    "    4\n"
   ]
  },
  {
   "cell_type": "code",
   "execution_count": 16,
   "metadata": {},
   "outputs": [
    {
     "name": "stdout",
     "output_type": "stream",
     "text": [
      "4\n"
     ]
    }
   ],
   "source": [
    "string = \"abcd\"#\"abcab\"\n",
    "n = len(string)\n",
    "count = 0\n",
    "for i in range(n):\n",
    "    for j in range(i,n):\n",
    "        if string[i] == string[j]:\n",
    "            count = count +1\n",
    "print(count)\n",
    "        "
   ]
  },
  {
   "cell_type": "markdown",
   "metadata": {},
   "source": [
    "## Great Job!"
   ]
  }
 ],
 "metadata": {
  "kernelspec": {
   "display_name": "Python 3",
   "language": "python",
   "name": "python3"
  },
  "language_info": {
   "codemirror_mode": {
    "name": "ipython",
    "version": 3
   },
   "file_extension": ".py",
   "mimetype": "text/x-python",
   "name": "python",
   "nbconvert_exporter": "python",
   "pygments_lexer": "ipython3",
   "version": "3.7.4"
  }
 },
 "nbformat": 4,
 "nbformat_minor": 2
}
