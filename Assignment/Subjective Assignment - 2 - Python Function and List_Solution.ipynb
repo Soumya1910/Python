{
 "cells": [
  {
   "cell_type": "markdown",
   "metadata": {},
   "source": [
    "# Assignments"
   ]
  },
  {
   "cell_type": "markdown",
   "metadata": {},
   "source": [
    "Q1. Write the Python function to get a string made of 4 copies of the last\n",
    "two characters of the specified string (length must be at least 2).\n",
    "\n",
    "    Sample function and result :\n",
    "    insert-end ('Python') -> abababab\n",
    "    insert-end('Exercises') -> jkjkjkjk"
   ]
  },
  {
   "cell_type": "code",
   "execution_count": 1,
   "metadata": {},
   "outputs": [
    {
     "name": "stdout",
     "output_type": "stream",
     "text": [
      "Enter the String : Python\n",
      "onononon\n"
     ]
    }
   ],
   "source": [
    "def print_string(string):\n",
    "    return string[-2:]*4\n",
    "input_string = \"\"\n",
    "while len(input_string)<2:\n",
    "    input_string = input('Enter the String : ')\n",
    "print(print_string(input_string))"
   ]
  },
  {
   "cell_type": "markdown",
   "metadata": {},
   "source": [
    "Q2. Write the python function to get a string made of its first three\n",
    "characters of a specified string. If the length of the string is less than 3\n",
    "then return the original string.\n",
    "    \n",
    "    Sample function and result :\n",
    "    first-three('ipy') -> ipy\n",
    "    first-three('python') -> pyt"
   ]
  },
  {
   "cell_type": "code",
   "execution_count": 2,
   "metadata": {},
   "outputs": [
    {
     "name": "stdout",
     "output_type": "stream",
     "text": [
      "Enter a string : python\n",
      "pyt\n"
     ]
    }
   ],
   "source": [
    "def string_manipulate(string):\n",
    "    if len(string)<3:\n",
    "        return string\n",
    "    else:\n",
    "        return string[:3]\n",
    "\n",
    "print(string_manipulate(input('Enter a string : ')))"
   ]
  },
  {
   "cell_type": "markdown",
   "metadata": {},
   "source": [
    "Q3. Write the Python program to find smallest window that contains all\n",
    "characters of the given string?\n",
    "\n",
    "    Original Strings:\n",
    "    asdaewsqgtwwsa\n",
    "    Smallest window that contains all characters of the said string:\n",
    "    Daewsqgt"
   ]
  },
  {
   "cell_type": "code",
   "execution_count": 3,
   "metadata": {},
   "outputs": [
    {
     "name": "stdout",
     "output_type": "stream",
     "text": [
      "Smallest window that contains all characters of the given string :  zasdaewsqgt\n"
     ]
    }
   ],
   "source": [
    "from collections import defaultdict\n",
    "\n",
    "def findSubString(string):\n",
    "    n = len(string)\n",
    "    dist_count = len(set(list(string)))\n",
    "    #print(dist_count)\n",
    "    count, start, start_index, min_len = 0,0,-1,99999999\n",
    "    curr_count = defaultdict(lambda: 0)\n",
    "\n",
    "    for i in range(n):\n",
    "        curr_count[string[i]] += 1 #insert the char in dict\n",
    "        #print(curr_count)\n",
    "        if curr_count[string[i]] == 1:#we will increase the count variable if the key presents only once and skip if it's repeated.\n",
    "            count +=1\n",
    "            #print(string[i],'\\t',count)\n",
    "        if count == dist_count: # when distinct character of defaultdict count is equal to unique characters in the given string\n",
    "            # now we found the window where all the characters are present. \n",
    "            # our next task is to minimize the window size.\n",
    "            while curr_count[string[start]] > 1: # remove the duplicate element count from the dict.. starting from 0 and iterate\n",
    "                # if the starting character count is 1 then it will never execute and window size will start from first.\n",
    "                if curr_count[string[start]] > 1:\n",
    "                    curr_count[string[start]] -=1\n",
    "                start+=1 # count how many characters are discarded.\n",
    "                print('start : \\t',start)\n",
    "                #print('######',curr_count)\n",
    "            \n",
    "            #print('i : ',i)\n",
    "            len_window = i - start +1\n",
    "            if min_len > len_window:\n",
    "                min_len = len_window\n",
    "                start_index = start\n",
    "    return string[start_index: start_index+min_len]\n",
    "\n",
    "#print('Smallest window that contains all characters of the given string : ',findSubString(\"aabcbcdbca\"))\n",
    "print('Smallest window that contains all characters of the given string : ',findSubString(\"zasdaewsqgtwwsa\"))\n",
    "    "
   ]
  },
  {
   "cell_type": "markdown",
   "metadata": {},
   "source": [
    "Q4. Write the Python program to count number of substrings from a\n",
    "given string of lowercase alphabets with exactly k distinct (given)\n",
    "characters?\n",
    "\n",
    "    Input a string (lowercase alphabets): wolf\n",
    "    Input k: 4\n",
    "    Number of substrings with exactly 4 distinct characters: 1"
   ]
  },
  {
   "cell_type": "code",
   "execution_count": 4,
   "metadata": {},
   "outputs": [
    {
     "name": "stdout",
     "output_type": "stream",
     "text": [
      "Number of substrings with exactly 4 distinct characters: 1\n"
     ]
    }
   ],
   "source": [
    "sample_string = \"wolf\"\n",
    "def count_dist_substring(sample_string, length):\n",
    "    result = [sample_string[i:j] for i in range(len(sample_string)) for j in range(i+1, len(sample_string)+1) if len(set(sample_string[i:j])) == length]\n",
    "    return len(result)\n",
    "\n",
    "unique_char_len = 4\n",
    "print(\"Number of substrings with exactly {} distinct characters: {}\".format(unique_char_len, count_dist_substring(sample_string, unique_char_len)))\n"
   ]
  },
  {
   "cell_type": "markdown",
   "metadata": {},
   "source": [
    "Q5. Write the Python program to count number of non-empty\n",
    "substrings of the given string?\n",
    "\n",
    "    Input a string: w3resource\n",
    "    Number of substrings:\n",
    "    55"
   ]
  },
  {
   "cell_type": "code",
   "execution_count": 6,
   "metadata": {},
   "outputs": [
    {
     "name": "stdout",
     "output_type": "stream",
     "text": [
      "Enter a string : w3resource\n",
      "Number of substring :  55\n"
     ]
    }
   ],
   "source": [
    "def number_substring(string):\n",
    "    return int(len(string)*((len(string)+1)/2))\n",
    "\n",
    "print('Number of substring : ',number_substring(input('Enter a string : ')))"
   ]
  },
  {
   "cell_type": "markdown",
   "metadata": {},
   "source": [
    "Q6. Write the Python program to count the number of strings where the\n",
    "string length is 2 or more, and first and last character are same\n",
    "from a given list of strings.\n",
    "\n",
    "    Sample List : ['abc', 'xyz', 'wxw', '1331']\n",
    "    Expected Result: 2"
   ]
  },
  {
   "cell_type": "code",
   "execution_count": 7,
   "metadata": {},
   "outputs": [
    {
     "name": "stdout",
     "output_type": "stream",
     "text": [
      "2\n"
     ]
    }
   ],
   "source": [
    "sample_list = ['abc', 'xyz', 'wxw', '1331']\n",
    "def count_same_character(sample_list):\n",
    "    return_list = [i for i in sample_list if len(i)>=2 and i[0]==i[-1]]\n",
    "    return len(return_list)\n",
    "\n",
    "print(count_same_character(sample_list))"
   ]
  },
  {
   "cell_type": "markdown",
   "metadata": {},
   "source": [
    "Q7. Write the Python program to get a list, sorted in increasing order by\n",
    "the last element in each tuple from the given list of non-empty\n",
    "tuples?\n",
    "\n",
    "    Sample List - [ (2, 5), (1, 2), (4, 4), (2, 3), (2, 1) ]\n",
    "    Expected Result - [ (2, 1), (1, 2), (2, 3), (4, 4), (2, 5) ]"
   ]
  },
  {
   "cell_type": "code",
   "execution_count": 8,
   "metadata": {},
   "outputs": [
    {
     "name": "stdout",
     "output_type": "stream",
     "text": [
      "[(2, 1), (1, 2), (2, 3), (4, 4), (2, 5)]\n"
     ]
    }
   ],
   "source": [
    "def last(n): \n",
    "    #print(n[-1])\n",
    "    return n[-1]  \n",
    "  \n",
    "def sort_list_last(tuples):  \n",
    "  return sorted(tuples, key=last)  \n",
    "  \n",
    "print(sort_list_last([(2, 5), (1, 2), (4, 4), (2, 3), (2, 1)])) "
   ]
  },
  {
   "cell_type": "markdown",
   "metadata": {},
   "source": [
    "Q8. Write the Python program to remove duplicates from a list?"
   ]
  },
  {
   "cell_type": "code",
   "execution_count": 9,
   "metadata": {},
   "outputs": [
    {
     "name": "stdout",
     "output_type": "stream",
     "text": [
      "[1, 2, 3, 5, 20]\n"
     ]
    }
   ],
   "source": [
    "sample_list = [1,20,2,3,5,3,5,1,20,20,5]\n",
    "print(list(set(sample_list)))"
   ]
  },
  {
   "cell_type": "code",
   "execution_count": 10,
   "metadata": {},
   "outputs": [
    {
     "name": "stdout",
     "output_type": "stream",
     "text": [
      "[1, 20, 2, 3, 5]\n"
     ]
    }
   ],
   "source": [
    "sample_list = [1,20,2,3,5,3,5,1,20,20,5]\n",
    "final_list = []\n",
    "for i in sample_list:\n",
    "    if i not in final_list:\n",
    "        final_list.append(i)\n",
    "print(final_list)"
   ]
  },
  {
   "cell_type": "markdown",
   "metadata": {},
   "source": [
    "Q9. Write the Python program to find the list of words that are longer\n",
    "than n from a given list of words?"
   ]
  },
  {
   "cell_type": "code",
   "execution_count": 11,
   "metadata": {},
   "outputs": [
    {
     "name": "stdout",
     "output_type": "stream",
     "text": [
      "['Python', 'program', 'longer']\n"
     ]
    }
   ],
   "source": [
    "def longer_word(word_list, n):\n",
    "    return [i for i in word_list if len(i)>n]\n",
    "\n",
    "sample_string = \"Write the Python program to find the list of words that are longer than n from a given list of words\".split()\n",
    "print(longer_word(sample_string,5))"
   ]
  },
  {
   "cell_type": "markdown",
   "metadata": {},
   "source": [
    "Q10. Write the Python program to print a specified list after removing the\n",
    "0th, 4th, and 5th elements?\n",
    "    \n",
    "    Sample List - ['Red', 'Green', 'White', 'Black', 'Pink', 'Yellow']\n",
    "    Expected Output - ['Green', 'White', 'Black']"
   ]
  },
  {
   "cell_type": "code",
   "execution_count": 12,
   "metadata": {},
   "outputs": [
    {
     "name": "stdout",
     "output_type": "stream",
     "text": [
      "['Green', 'White', 'Black']\n"
     ]
    }
   ],
   "source": [
    "sample_list = ['Red', 'Green', 'White', 'Black', 'Pink', 'Yellow']\n",
    "unwanted_num = [0,4,5]\n",
    "result = [sample_list[i] for i in range(len(sample_list)) if i not in unwanted_num]\n",
    "print(result)"
   ]
  },
  {
   "cell_type": "markdown",
   "metadata": {},
   "source": [
    "Q11. Write the Python program to generate all permutations of a list in\n",
    "Python?"
   ]
  },
  {
   "cell_type": "code",
   "execution_count": 13,
   "metadata": {},
   "outputs": [
    {
     "name": "stdout",
     "output_type": "stream",
     "text": [
      "['1', '2', '3']\n",
      "['1', '3', '2']\n",
      "['2', '1', '3']\n",
      "['2', '3', '1']\n",
      "['3', '1', '2']\n",
      "['3', '2', '1']\n"
     ]
    }
   ],
   "source": [
    "def permutation(sample_list):\n",
    "    if len(sample_list) ==0:\n",
    "        return 0\n",
    "    if len(sample_list) == 1:\n",
    "        return [sample_list]\n",
    "    # find the permutation of the list for more than 1\n",
    "    l = []\n",
    "    for i in range(len(sample_list)):\n",
    "        m = sample_list[i]\n",
    "        remaining_list = sample_list[:i] + sample_list[i+1:]\n",
    "        for p in permutation(remaining_list):\n",
    "            l.append([m]+p)\n",
    "    return l\n",
    "\n",
    "sample_list = list('123')\n",
    "for i in permutation(sample_list):\n",
    "    print(i)"
   ]
  },
  {
   "cell_type": "code",
   "execution_count": 14,
   "metadata": {},
   "outputs": [
    {
     "name": "stdout",
     "output_type": "stream",
     "text": [
      "[(1, 2, 3), (1, 3, 2), (2, 1, 3), (2, 3, 1), (3, 1, 2), (3, 2, 1)]\n"
     ]
    }
   ],
   "source": [
    "from itertools import permutations\n",
    "l = list(permutations(range(1,4)))\n",
    "print(l)"
   ]
  },
  {
   "cell_type": "markdown",
   "metadata": {},
   "source": [
    "Q12. Write the Python program to convert a pair of values into a sorted\n",
    "unique array?\n",
    " \n",
    "    Original List- [ (1, 2), (3, 4), (1, 2), (5, 6), (7, 8), (1, 2), (3, 4), (3, 4), (7, 8), (9, 10) ]\n",
    "    Sorted Unique Data- [ 1, 2, 3, 4, 5, 6, 7, 8, 9, 10 ] \n"
   ]
  },
  {
   "cell_type": "code",
   "execution_count": 15,
   "metadata": {},
   "outputs": [
    {
     "name": "stdout",
     "output_type": "stream",
     "text": [
      "[1, 2, 3, 4, 5, 6, 7, 8, 9, 10]\n"
     ]
    }
   ],
   "source": [
    "original_list = [ (1, 2), (3, 4), (1, 2), (5, 6), (7, 8), (1, 2), (3, 4), (3, 4), (7, 8), (9, 10) ]\n",
    "flattened = list(set([item for sublist in original_list for item in sublist]))\n",
    "print(sorted(flattened))"
   ]
  },
  {
   "cell_type": "code",
   "execution_count": 16,
   "metadata": {},
   "outputs": [
    {
     "data": {
      "text/plain": [
       "[1, 2, 3, 4, 5, 6, 7, 8, 9, 10]"
      ]
     },
     "execution_count": 16,
     "metadata": {},
     "output_type": "execute_result"
    }
   ],
   "source": [
    "original_list = [ (1, 2), (3, 4), (1, 2), (5, 6), (7, 8), (1, 2), (3, 4), (3, 4), (7, 8), (9, 10) ]\n",
    "\n",
    "import itertools\n",
    "sorted(list(set(list(itertools.chain(*original_list)))))"
   ]
  },
  {
   "cell_type": "markdown",
   "metadata": {},
   "source": [
    "## Great job!"
   ]
  }
 ],
 "metadata": {
  "kernelspec": {
   "display_name": "Python 3",
   "language": "python",
   "name": "python3"
  },
  "language_info": {
   "codemirror_mode": {
    "name": "ipython",
    "version": 3
   },
   "file_extension": ".py",
   "mimetype": "text/x-python",
   "name": "python",
   "nbconvert_exporter": "python",
   "pygments_lexer": "ipython3",
   "version": "3.7.4"
  }
 },
 "nbformat": 4,
 "nbformat_minor": 2
}
